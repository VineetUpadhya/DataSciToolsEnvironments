{
 "cells": [
  {
   "cell_type": "markdown",
   "id": "db473f5e",
   "metadata": {},
   "source": [
    "## Introduction\n",
    "The following notebook contains a summarization of the tools and ecosystems used within data science."
   ]
  },
  {
   "cell_type": "markdown",
   "id": "f3896bf3",
   "metadata": {},
   "source": [
    "## Data Science Languages\n",
    "1. Python\n",
    "2. Scala\n",
    "3. R\n",
    "4. SQL\n",
    "5. Java\n"
   ]
  },
  {
   "cell_type": "markdown",
   "id": "434e3caf",
   "metadata": {},
   "source": [
    "## Data Science Libraries\n",
    "1. Pandas\n",
    "2. Numpy\n",
    "3. Scikit-learn\n",
    "4. Pytorch\n",
    "5. Tensorflow\n",
    "5. GGplot2"
   ]
  },
  {
   "cell_type": "markdown",
   "id": "e46ddaeb",
   "metadata": {},
   "source": [
    "## Data Science Tools\n",
    "1. JupyterLab\n",
    "2. Apache Spark\n",
    "3. IBM Watson\n",
    "4. Hadoop"
   ]
  },
  {
   "cell_type": "markdown",
   "id": "112f402f",
   "metadata": {},
   "source": [
    "## Arithmetic\n",
    "Below are a few examples of arithmetic calculations with Python."
   ]
  },
  {
   "cell_type": "code",
   "execution_count": 2,
   "id": "a6d6f7ff",
   "metadata": {},
   "outputs": [
    {
     "data": {
      "text/plain": [
       "17"
      ]
     },
     "execution_count": 2,
     "metadata": {},
     "output_type": "execute_result"
    }
   ],
   "source": [
    "#This is a simple expression to add then multiply integers.\n",
    "(3*4)+5\n"
   ]
  },
  {
   "cell_type": "code",
   "execution_count": 3,
   "id": "de6f3534",
   "metadata": {},
   "outputs": [
    {
     "data": {
      "text/plain": [
       "'200 minutes / 60 = 3.3333333333333335 hours'"
      ]
     },
     "execution_count": 3,
     "metadata": {},
     "output_type": "execute_result"
    }
   ],
   "source": [
    "#This is a simple expression to convert 200 minutes to hours by dividing by 60\n",
    "\"200 minutes / 60 = \" + str(200/60) + ' hours'\n"
   ]
  },
  {
   "cell_type": "markdown",
   "id": "f9399708",
   "metadata": {},
   "source": [
    "## **Objectives:**\n",
    "- Listed Popular Programming Languages for Data Science\n",
    "- Performed Arithmetic Operations With Python\n",
    "- Listed Popular Data Science Tools\n",
    "- Listed Popular Data Science Libraries\n",
    "- Used markdown to display text in Jupyter Notebook"
   ]
  },
  {
   "cell_type": "markdown",
   "id": "e9bec707",
   "metadata": {},
   "source": [
    "## Author\n",
    "Vineet Upadhya"
   ]
  },
  {
   "cell_type": "code",
   "execution_count": null,
   "id": "a5301d4c",
   "metadata": {},
   "outputs": [],
   "source": []
  }
 ],
 "metadata": {
  "kernelspec": {
   "display_name": "Python 3 (ipykernel)",
   "language": "python",
   "name": "python3"
  },
  "language_info": {
   "codemirror_mode": {
    "name": "ipython",
    "version": 3
   },
   "file_extension": ".py",
   "mimetype": "text/x-python",
   "name": "python",
   "nbconvert_exporter": "python",
   "pygments_lexer": "ipython3",
   "version": "3.11.4"
  }
 },
 "nbformat": 4,
 "nbformat_minor": 5
}
